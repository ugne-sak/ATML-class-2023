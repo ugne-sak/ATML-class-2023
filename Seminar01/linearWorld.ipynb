{
 "cells": [
  {
   "cell_type": "code",
   "execution_count": null,
   "id": "b2473bcc",
   "metadata": {},
   "outputs": [],
   "source": []
  },
  {
   "cell_type": "markdown",
   "id": "e6a360d3",
   "metadata": {},
   "source": [
    "# Linear World\n",
    "\n",
    "In this notebook we implement a very simple example of the agent-environment interface used in reinforcement learning, called \"linear world\".\n",
    "\n",
    "The world consists of $n$ places in a row, labelled $0, 1, \\dots, n-1$, and the state of the world consists of the position where the player is located. The initial state has the player in the middle of the world:\n",
    "- The (empty) world for $n=5$: `\"_ _ _ _ _\"`\n",
    "- With the player in position $2$: `\"_ _ X _ _\"`\n",
    "\n",
    "The actions that the agent can take are `LEFT` and `RIGHT`, each moving the player one place in the indicated direction. In the two outer positions ($0$ and $n-1$), both actions result in a step towards the inside:\n",
    "- After action `RIGHT`: `\"_ _ _ X _\"`\n",
    "- After action `RIGHT`: `\"_ _ _ _ X\"`\n",
    "- After action `LEFT` or `RIGHT`: `\"_ _ _ X _\"`\n",
    "\n",
    "The reward is $+1$ for an action that leaves the player in one of the outer positions, and $0$, else. A possible sequence of events in this setting is:\n",
    "- `\"_ _ X _ _\"` $S_0 = 3, A_0 = \\text{\"RIGHT\"}$\n",
    "- `\"_ _ _ X _\"` $R_1 = 0, S_1 = 3, A_1 = \\text{\"LEFT\"}$\n",
    "- `\"_ _ X _ _\"` $R_2 = 0, S_2 = 2, A_2 = \\text{\"LEFT\"}$\n",
    "- `\"_ X _ _ _\"` $R_3 = 0, S_3 = 1, A_3 = \\text{\"LEFT\"}$\n",
    "- `\"X _ _ _ _\"` $R_4 = 1, S_4 = 0, A_4 = \\text{\"RIGHT\"}$\n",
    "- `\"_ X _ _ _\"` $R_5 = 0, S_5 = 1, A_5 = \\dots$\n",
    "\n",
    "\n"
   ]
  },
  {
   "cell_type": "markdown",
   "id": "fbe17e41",
   "metadata": {},
   "source": [
    "*<span style=\"color:red\">Below, the parts indicated by `#??` need to be filled in!</span>*"
   ]
  },
  {
   "cell_type": "code",
   "execution_count": null,
   "id": "0ee78251",
   "metadata": {},
   "outputs": [],
   "source": [
    "# We use constants 1 and 2 to represent LEFT, RIGHT:\n",
    "LEFT = 1\n",
    "RIGHT = 2"
   ]
  },
  {
   "cell_type": "code",
   "execution_count": null,
   "id": "cb622ce6",
   "metadata": {},
   "outputs": [],
   "source": [
    "class LinearWorld:\n",
    "    def __init__(self, length):\n",
    "        # Store length of world\n",
    "        #??\n",
    "        \n",
    "        # Initialize state of world in the middle\n",
    "        #??\n",
    "    \n",
    "    def step(self, action):\n",
    "        # Compute new state\n",
    "        #?? (1. handle the outer two positions)\n",
    "        #?? (2. change position to the left/right)\n",
    "\n",
    "        # Compute reward\n",
    "        #??\n",
    "        \n",
    "        # Return state and reward\n",
    "        return #??\n",
    "    \n",
    "    def reset(self):\n",
    "        # Reset the position to the middle\n",
    "        #??\n",
    "    \n",
    "    def showWorld(self):\n",
    "        #Print a representation of the linear world\n",
    "        \n",
    "        # Start with an empty string\n",
    "        #??\n",
    "        \n",
    "        # Add \"_\" for every empty spot, \"X\" for the player\n",
    "        #??\n",
    "        \n",
    "        # Print the complete string\n",
    "        #??\n",
    "    \n",
    "    def __str__(self):\n",
    "        # (!) Advanced concept:\n",
    "        # Custom string-conversion (used e.g. by `print()`)\n",
    "        \n",
    "        # Use the same logic as in .showWorld(), but return the string\n",
    "        # (instead of printing it)\n",
    "        #??\n"
   ]
  },
  {
   "cell_type": "markdown",
   "id": "f8caaca3",
   "metadata": {},
   "source": [
    "## Testing the linear world\n",
    "\n",
    "First, we create an instance of `LinearWorld`, then we use the `.step()` method to perform actions ($A_t$) and observe the resulting state ($S_{t+1}$) and reward ($R_{t+1}$)."
   ]
  },
  {
   "cell_type": "code",
   "execution_count": null,
   "id": "1989a25c",
   "metadata": {},
   "outputs": [],
   "source": [
    "# Create a new instance of the LinearWorld class\n",
    "lw = #??"
   ]
  },
  {
   "cell_type": "code",
   "execution_count": null,
   "id": "1de7894e",
   "metadata": {},
   "outputs": [],
   "source": [
    "# Check the properties `length` and `pos` of the instance\n",
    "#??"
   ]
  },
  {
   "cell_type": "code",
   "execution_count": null,
   "id": "e3376b28",
   "metadata": {},
   "outputs": [],
   "source": [
    "# Make a step and assign the outcome to variables (state + reward)\n",
    "#??\n",
    "\n",
    "# Print the outcome\n",
    "#?? (state)\n",
    "#?? (reward)"
   ]
  },
  {
   "cell_type": "markdown",
   "id": "64349e60",
   "metadata": {},
   "source": [
    "We can use the method `.showWorld()` to visualize the events \"graphically\":"
   ]
  },
  {
   "cell_type": "code",
   "execution_count": null,
   "id": "aa2d7c2a",
   "metadata": {},
   "outputs": [],
   "source": [
    "# Make a step\n",
    "#??\n",
    "\n",
    "# Show the new state of the world\n",
    "#??"
   ]
  },
  {
   "cell_type": "markdown",
   "id": "d12abb34",
   "metadata": {},
   "source": [
    "## Two simple policies\n",
    "\n",
    "Next, we implement two policies and see how they perform over a timespan of $T = 100$ steps:\n",
    "- The random policy randomly chooses and action\n",
    "- The \"right\" policy always goes `RIGHT`"
   ]
  },
  {
   "cell_type": "code",
   "execution_count": null,
   "id": "a441b8ca",
   "metadata": {},
   "outputs": [],
   "source": [
    "# We use numpy to choose a random action\n",
    "import numpy as np"
   ]
  },
  {
   "cell_type": "code",
   "execution_count": null,
   "id": "ac43f25b",
   "metadata": {},
   "outputs": [],
   "source": [
    "# Number of steps\n",
    "T = 100"
   ]
  },
  {
   "cell_type": "code",
   "execution_count": null,
   "id": "e2f80c56",
   "metadata": {},
   "outputs": [],
   "source": [
    "# Run the random policy for T steps, update the total reward\n",
    "lw = LinearWorld(7)\n",
    "totalRandom = 0\n",
    "for t in range(T):\n",
    "    #??"
   ]
  },
  {
   "cell_type": "code",
   "execution_count": null,
   "id": "a6db5af8",
   "metadata": {},
   "outputs": [],
   "source": [
    "# Check the total rewards we got\n",
    "print(totalRandom)"
   ]
  },
  {
   "cell_type": "code",
   "execution_count": null,
   "id": "7e6a972d",
   "metadata": {},
   "outputs": [],
   "source": [
    "# Run the \"right\" policy for T steps, update the total reward\n",
    "lw = LinearWorld(7)\n",
    "totalRight = 0\n",
    "for t in range(T):\n",
    "    #??"
   ]
  },
  {
   "cell_type": "code",
   "execution_count": null,
   "id": "7268a0b9",
   "metadata": {},
   "outputs": [],
   "source": [
    "# Check the total rewards we got\n",
    "print(totalRight)"
   ]
  }
 ],
 "metadata": {
  "kernelspec": {
   "display_name": "Python 3",
   "language": "python",
   "name": "python3"
  },
  "language_info": {
   "codemirror_mode": {
    "name": "ipython",
    "version": 3
   },
   "file_extension": ".py",
   "mimetype": "text/x-python",
   "name": "python",
   "nbconvert_exporter": "python",
   "pygments_lexer": "ipython3",
   "version": "3.9.6 (default, Sep 26 2022, 11:37:49) \n[Clang 14.0.0 (clang-1400.0.29.202)]"
  },
  "vscode": {
   "interpreter": {
    "hash": "31f2aee4e71d21fbe5cf8b01ff0e069b9275f58929596ceb00d14d90e3e16cd6"
   }
  }
 },
 "nbformat": 4,
 "nbformat_minor": 5
}
